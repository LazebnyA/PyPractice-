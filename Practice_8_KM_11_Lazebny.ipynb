{
  "cells": [
    {
      "cell_type": "markdown",
      "metadata": {
        "id": "FMqboNwO4rVs"
      },
      "source": [
        "# **Курс \"Програмування на мові Python\"**"
      ]
    },
    {
      "cell_type": "markdown",
      "metadata": {
        "id": "A2T6MigL5Z06"
      },
      "source": [
        "## **Практичне зайняття №8**\n",
        "\n",
        "### Тема: \"Перевірка даних. Робота з виключеннями. Регулярні вирази\""
      ]
    },
    {
      "cell_type": "markdown",
      "metadata": {
        "id": "cfCdgK2zXm7e"
      },
      "source": [
        "### **Завдання 1 (1,5 бали)**\n",
        "\n",
        "Модель tf-pose-estimation (https://github.com/ZheC/tf-pose-estimation) призначена для розпізнавання 18 ключових точок на тілі людини. Кожна точка розпізнається з певною достовірністю, що вимірюється у відсотках. Модель виводить результати у вигляді рядка:\n",
        "\n",
        "```\n",
        "[BodyPart:0-(0.55, 0.17) score=0.81 BodyPart:1-(0.49, 0.27) score=0.85 BodyPart:2-(0.41, 0.26) score=0.67 \n",
        "BodyPart:3-(0.33, 0.37) score=0.72 BodyPart:4-(0.36, 0.48) score=0.78 BodyPart:5-(0.58, 0.27) score=0.81 \n",
        "BodyPart:6-(0.65, 0.38) score=0.88 BodyPart:7-(0.62, 0.48) score=0.86 BodyPart:8-(0.43, 0.48) score=0.60 \n",
        "BodyPart:9-(0.43, 0.66) score=0.67 BodyPart:10-(0.53, 0.79) score=0.56 BodyPart:11-(0.53, 0.48) score=0.56 \n",
        "BodyPart:12-(0.59, 0.66) score=0.75 BodyPart:13-(0.49, 0.80) score=0.50 BodyPart:14-(0.54, 0.15) score=0.73 \n",
        "BodyPart:15-(0.56, 0.15) score=0.85 BodyPart:16-(0.48, 0.16) score=0.81 BodyPart:17-(0.83, 0.18) score=0.79]\n",
        "```\n",
        "\n",
        "Написати програму, яка створюватиме два списки, points та scores. В першому мають послідовно зберігатися координати точок, в другому - їхні достовірності (scores). Для поданого рядка списки матимуть вигляд:\n",
        "\n",
        "```\n",
        "points = [0.55,0.17,0.49,0.27,0.41,0.26,0.33,0.37,0.36,0.48,0.58,0.27,0.65,0.38,0.62,0.48,0.43,0.48,\n",
        "0.43,0.66,0.53,0.79,0.53,0.48,0.59,0.66,0.49,0.80,0.54,0.15,0.56,0.15,0.48,0.16,0.83,0.18]\n",
        "scores = [0.81,0.85,0.67,0.72,0.78,0.81,0.88,0.86,0.60,0.67,0.56,0.56,0.75,0.50,0.73,0.85,0.81,0.79]\n",
        "```\n",
        "\n",
        "\n",
        "1. Створити шаблон регулярного виразу.\n",
        "\n",
        "2. За допомогою функції compile() створити об'єкт регулярного виразу.\n",
        "\n",
        "3. Кількість розпізнаних точок може коливатись у межах від 0 до 18.\n",
        "\n",
        "4. Під час оцінювання коду враховуватиметься його оптимальність.\n",
        "\n",
        "5. У змінній pose_estimation зберігається тестовий рядок. Для перевірки роботи можуть використовуватись інші рядки такого ж формату."
      ]
    },
    {
      "cell_type": "code",
      "execution_count": 67,
      "metadata": {
        "id": "ifNX2M7LXm7f"
      },
      "outputs": [
        {
          "name": "stdout",
          "output_type": "stream",
          "text": [
            "[0.55, 0.17, 0.49, 0.27, 0.41, 0.26, 0.33, 0.37, 0.36, 0.48, 0.58, 0.27, 0.65, 0.38, 0.62, 0.48, 0.43, 0.48, 0.43, 0.66, 0.53, 0.79, 0.53, 0.48, 0.59, 0.66, 0.49, 0.8, 0.54, 0.15, 0.56, 0.15, 0.48, 0.16, 0.83, 0.18]\n",
            "[0.81, 0.85, 0.67, 0.72, 0.78, 0.81, 0.88, 0.86, 0.6, 0.67, 0.56, 0.56, 0.75, 0.5, 0.73, 0.85, 0.81, 0.79]\n"
          ]
        }
      ],
      "source": [
        "import re\n",
        "\n",
        "pose_estimation = \"[BodyPart:0-(0.55, 0.17) score=0.81 BodyPart:1-(0.49, 0.27) score=0.85 BodyPart:2-(0.41, 0.26) score=0.67 BodyPart:3-(0.33, 0.37) score=0.72 BodyPart:4-(0.36, 0.48) score=0.78 BodyPart:5-(0.58, 0.27) score=0.81 BodyPart:6-(0.65, 0.38) score=0.88 BodyPart:7-(0.62, 0.48) score=0.86 BodyPart:8-(0.43, 0.48) score=0.60 BodyPart:9-(0.43, 0.66) score=0.67 BodyPart:10-(0.53, 0.79) score=0.56 BodyPart:11-(0.53, 0.48) score=0.56 BodyPart:12-(0.59, 0.66) score=0.75 BodyPart:13-(0.49, 0.80) score=0.50 BodyPart:14-(0.54, 0.15) score=0.73 BodyPart:15-(0.56, 0.15) score=0.85 BodyPart:16-(0.48, 0.16) score=0.81 BodyPart:17-(0.83, 0.18) score=0.79]\"\n",
        "\n",
        "points_pattern = r'\\(0.[0-9]+, 0.[0-9]+\\) '\n",
        "points_object = re.compile(points_pattern)\n",
        "points_string = ''\n",
        "\n",
        "for point in points_object.findall(pose_estimation):\n",
        "    points_string += point.replace('(', '').replace(')', '').replace(',', '')\n",
        "\n",
        "points_list = [float(i) for i in points_string.split()]\n",
        "\n",
        "\n",
        "scores_pattern = r'score=0.[0-9]+'\n",
        "scores_object = re.compile(scores_pattern)\n",
        "\n",
        "scores_list = [float(i.replace('score=', '')) for i in scores_object.findall(pose_estimation) ]\n",
        "\n",
        "\n",
        "print(points_list)\n",
        "print(scores_list)\n",
        "\n"
      ]
    },
    {
      "cell_type": "markdown",
      "metadata": {
        "id": "M1Sg0vXJXm7n"
      },
      "source": [
        "### **Завдання 2 (1,5 бали)**\n",
        "\n",
        "Написати програму підрахунку коренів квадратного рівняння без попередніх перевірок.\n",
        "\n",
        "1. Користувач має вводити коефіцієнти a, b та c з клавіатури.\n",
        "\n",
        "2. Програма має обробляти помилки ділення на 0, кореня від'ємного числа та інші, а також виводити відповідні повідомлення у разі виникнення таких помилок.\n",
        "\n",
        "3. Якщо рівняння не має коренів, программа має генерувати помилку за допомогою ключового слова raise, а потім обробляти її.\n",
        "\n",
        "4. Правильно написана програма при виникненні різних помилок має виводити текст помилки, а також різні повідомлення про те, в чому суть цих помилок. Необроблених помилок бути не повинно."
      ]
    },
    {
      "cell_type": "code",
      "execution_count": 90,
      "metadata": {
        "id": "co7fcAuvXm7o"
      },
      "outputs": [
        {
          "name": "stdout",
          "output_type": "stream",
          "text": [
            "OverflowError: The result is too large\n",
            "(34, 'Result too large')\n"
          ]
        }
      ],
      "source": [
        "import math\n",
        "\n",
        "try:\n",
        "    a = float(input('Enter a: '))\n",
        "    b = float(input('Enter b: '))\n",
        "    c = float(input('Enter c: '))\n",
        "\n",
        "    D = (b**2) - (4*a*c)\n",
        "\n",
        "    if D < 0:\n",
        "        raise ValueError('The Discriminant of Quadratic Equation must be > 0. There are no real roots, only complex')\n",
        "    elif D == 0:\n",
        "        print(f'x = {-b/(2*a)}')\n",
        "    else:\n",
        "        x1 = (-b + math.sqrt(D)) / 2*a  \n",
        "        x2 = (-b - math.sqrt(D)) / 2*a\n",
        "        print('x1 =', x1, ' x2 = ', x2)\n",
        "except ValueError as error:\n",
        "    print('ValueError: Cannot parse user input')\n",
        "    print(error)\n",
        "except ZeroDivisionError as error:\n",
        "    print('ZeroDivisionError: Cannot divide by 0')\n",
        "    print(error)\n",
        "except OverflowError as error:\n",
        "    print('OverflowError: The result is too large')\n",
        "    print(error)\n",
        "except Exception as error:\n",
        "    print('An unknown error')\n",
        "    print(error)\n",
        "    \n",
        "\n"
      ]
    }
  ],
  "metadata": {
    "colab": {
      "collapsed_sections": [],
      "name": "Practice_7_KM-01_.ipynb",
      "provenance": []
    },
    "interpreter": {
      "hash": "6548c30bd0a2a31206deff9d85cdae3ec1d9efc20e36cae7059dc4c18d41af10"
    },
    "kernelspec": {
      "display_name": "Python 3.9.7 64-bit",
      "name": "python3"
    },
    "language_info": {
      "codemirror_mode": {
        "name": "ipython",
        "version": 3
      },
      "file_extension": ".py",
      "mimetype": "text/x-python",
      "name": "python",
      "nbconvert_exporter": "python",
      "pygments_lexer": "ipython3",
      "version": "3.9.7"
    }
  },
  "nbformat": 4,
  "nbformat_minor": 0
}
