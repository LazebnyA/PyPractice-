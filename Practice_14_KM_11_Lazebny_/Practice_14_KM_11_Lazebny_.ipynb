{
  "cells": [
    {
      "cell_type": "markdown",
      "metadata": {
        "id": "FMqboNwO4rVs"
      },
      "source": [
        "# **Курс \"Програмування на мові Python\"**"
      ]
    },
    {
      "cell_type": "markdown",
      "metadata": {
        "id": "A2T6MigL5Z06"
      },
      "source": [
        "## **Практичне зайняття №14**\n",
        "\n",
        "### Тема: \"Робота зі спеціальними форматами файлів\""
      ]
    },
    {
      "cell_type": "markdown",
      "metadata": {
        "id": "A34oz70eU463"
      },
      "source": [
        "### **Завдання 1 (1,5 бали)**\n",
        "\n",
        "Створіть CSV-файл, що буде містити від 5 до 10 пісень (творів) вашого улюбленого музиканта. Назва файлу - ім'я музиканта (композитора) або назва гурту.\n",
        "\n",
        "1. Обов'язково додайте до файлу рядок з назвами двох колонок (Song, Year) або (Composition, Year).\n",
        "\n",
        "2. Після запису файлу роздрукуйте назву файлу та усі наявні у файлі рядки (включно із заголовками).\n",
        "\n",
        "3. Для запису та зчитування рядків скористайтесь функціями csv.DictWriter() та csv.DictReader()."
      ]
    },
    {
      "cell_type": "code",
      "execution_count": 26,
      "metadata": {
        "id": "MEJIrG1GU463"
      },
      "outputs": [
        {
          "name": "stdout",
          "output_type": "stream",
          "text": [
            "Burzum.csv\n",
            "Composition Year\n",
            "A Lost Forgotten Sad Spirit 1992\n",
            "Ea, Lord Of The Depths 1992\n",
            "My Journey To The Stars 1992\n",
            "Hvis Lyset Tar Oss 1993\n",
            "Dunkelheit 1995\n",
            "Jesus' Tod 1995\n"
          ]
        }
      ],
      "source": [
        "import csv\n",
        "\n",
        "songs_dict = {\n",
        "    'A Lost Forgotten Sad Spirit': 1992,\n",
        "    'Ea, Lord Of The Depths': 1992,\n",
        "    'My Journey To The Stars': 1992,\n",
        "    'Hvis Lyset Tar Oss': 1993,\n",
        "    'Dunkelheit': 1995,\n",
        "    'Jesus\\' Tod': 1995\n",
        "}\n",
        "\n",
        "fieldnames = ['Composition', 'Year']\n",
        "filename = 'Burzum.csv'\n",
        "\n",
        "with open(filename, 'w', newline='') as file:\n",
        "    w = csv.DictWriter(file, fieldnames=fieldnames)\n",
        "    w.writeheader()\n",
        "    for i in range(len(songs_dict.keys())):\n",
        "        w.writerow({'Composition': list(songs_dict.keys())[i], 'Year': list(songs_dict.values())[i]})\n",
        "\n",
        "with open(filename, 'r', newline='', encoding='UTF8') as file:\n",
        "    r = csv.DictReader(file)\n",
        "    print(filename)\n",
        "    print(*fieldnames)\n",
        "    for row in r:\n",
        "        print(row[\"Composition\"], row['Year'])\n",
        "\n",
        "\n"
      ]
    },
    {
      "cell_type": "markdown",
      "metadata": {
        "id": "Jb-eSBsWU464"
      },
      "source": [
        "### **Завдання 2 (1,5 бали)**\n",
        "\n",
        "COCO Dataset - набір фотографій та анотацій до них. Його дуже часто використовують для тренування класифікаторів, призначених для розпізнавання об'єктів та визначення ключових точок на зображеннях.\n",
        "\n",
        "Завантажте файли з описом фотографій COCO Dataset за посиланням: [COCO Dataset](http://images.cocodataset.org/annotations/image_info_test2017.zip).\n",
        "\n",
        "Відкрийте файл image_info_test-dev2017.json. Інформація про фотографії з бази COCO міститься у полі \"images\". Інформація про категорії, на які розділені всі фотографії, міститься у полі \"categories\".\n",
        "\n",
        "1. Визначте кількість фотографій, інформацію про які можна знайти у цьому файлі (кількість елементів, що відповідають ключу \"images\").\n",
        "\n",
        "2. Визначте кількість наявних категорій (кількість елементів, що відповідають ключу \"categories\").\n",
        "\n",
        "3. Виведіть посилання на фотографію 000000000001.jpg (\"coco_url\"). Також виведіть висоту цієї фотографії (\"height\"), ширину (\"width\") та її ідентифікатор (\"id\").\n",
        "\n",
        "4. Виведіть назву фотографії з набільшим номером.\n",
        "\n",
        "Опис структури JSON-файлу для набору фотографій COCO можна знайти за посиланням: [Data format](https://cocodataset.org/#format-data).\n",
        "\n",
        "Щоб перевірити правильність результатів, у VS Code встановіть розширення JSON та відкрийте файл image_info_test-dev2017.json. Розширення автоматично визначає кількість елементів у кожному полі."
      ]
    },
    {
      "cell_type": "code",
      "execution_count": 56,
      "metadata": {},
      "outputs": [
        {
          "name": "stdout",
          "output_type": "stream",
          "text": [
            "1. Кількість фотографій: 20288\n",
            "2. Кількість наявних категорій: 80\n",
            "3. Посилання: http://images.cocodataset.org/test2017/000000000001.jpg, Висота: 480, Ширина: 640, ID: 1\n",
            "4. Назва фотографії з найбільшим номером: 000000581918.jpg\n"
          ]
        }
      ],
      "source": [
        "import json\n",
        "\n",
        "with open('image_info_test-dev2017.json', 'r') as file:\n",
        "    data = json.load(file)\n",
        "    images_dict = data['images']\n",
        "    categories_dict = data['categories']\n",
        "\n",
        "    max_image_num = max([int(i['coco_url'][-16:-4]) for i in images_dict])\n",
        "\n",
        "    for i in images_dict:\n",
        "        coco_url = i['coco_url']\n",
        "        if coco_url[-16:] == '000000000001.jpg':\n",
        "            first_img_url = coco_url\n",
        "            first_img_height = i['height']\n",
        "            first_img_width = i['width']\n",
        "            first_img_id = i['id']\n",
        "        if str(max_image_num) in coco_url[-16:]:\n",
        "            max_filename = i['file_name']\n",
        "\n",
        "print(f'1. Кількість фотографій: {len(images_dict)}')\n",
        "print(f'2. Кількість наявних категорій: {len(categories_dict)}')\n",
        "print(f'3. Посилання: {first_img_url}, Висота: {first_img_height}, Ширина: {first_img_width}, ID: {first_img_id}')\n",
        "print(f'4. Назва фотографії з найбільшим номером: {max_filename}')\n",
        "    "
      ]
    }
  ],
  "metadata": {
    "colab": {
      "collapsed_sections": [],
      "name": "Practice_14_KM_01.ipynb",
      "provenance": []
    },
    "kernelspec": {
      "display_name": "Python 3",
      "name": "python3"
    },
    "language_info": {
      "codemirror_mode": {
        "name": "ipython",
        "version": 3
      },
      "file_extension": ".py",
      "mimetype": "text/x-python",
      "name": "python",
      "nbconvert_exporter": "python",
      "pygments_lexer": "ipython3",
      "version": "3.9.7"
    }
  },
  "nbformat": 4,
  "nbformat_minor": 0
}
