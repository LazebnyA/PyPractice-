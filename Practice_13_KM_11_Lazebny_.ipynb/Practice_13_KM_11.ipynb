{
  "cells": [
    {
      "cell_type": "markdown",
      "metadata": {
        "id": "FMqboNwO4rVs"
      },
      "source": [
        "# **Курс \"Програмування на мові Python\"**"
      ]
    },
    {
      "cell_type": "markdown",
      "metadata": {
        "id": "A2T6MigL5Z06"
      },
      "source": [
        "## **Практичне зайняття №13**\n",
        "\n",
        "### Тема: \"Робота з файлами\""
      ]
    },
    {
      "cell_type": "markdown",
      "metadata": {
        "id": "cfCdgK2zXm7e"
      },
      "source": [
        "### **Завдання 1 (1,5 бали)**\n",
        "\n",
        "У 1939 році друком вийшов роман американського письменика Ернеста Вінсента Райта \"Ґетсбі\". Особливу увагу публіки він здобув через те, що письменник жодного разу не використав у романі літеру \"e\" (роман складається з більше ніж 50,000 слів), яка є найбільш вживаною літерою в англійській мові.\n",
        "\n",
        "Порахуйте кількість входжень кожної літери у текст роману. Виведіть список літер англійського алфавіту, а також інформацію про те, скільки відсотків від усіх літер тексту складає кожна літера алфавіту.\n",
        "\n",
        "Зауваження:\n",
        "\n",
        "1. Програма має ігнорувати будь-які символи, окрім літер.\n",
        "\n",
        "2. Переведіть усі літери у верхній або у нижній регістр.\n",
        "\n",
        "3. Під час виведення відсортуйте літери у порядку зменшення їхнього відсотка. Літера \"e\" має стояти на останньому місці у цьому списку (хоча кілька літер e там все ж таки зустрічається).\n",
        "\n",
        "4. Виведіть перші 5 та останні 5 літер відсортованого списку разом з відсотковими значеннями, що їм відповідають. Відсотки округліть до тисячних."
      ]
    },
    {
      "cell_type": "code",
      "execution_count": 6,
      "metadata": {
        "id": "u4-fHJJ6U462",
        "tags": [
          "outputPrepend"
        ]
      },
      "outputs": [
        {
          "name": "stdout",
          "output_type": "stream",
          "text": [
            "a - 10.952 %\n",
            "o - 10.419 %\n",
            "i - 8.826 %\n",
            "n - 8.597 %\n",
            "t - 8.494 %\n",
            "\n",
            "j - 0.23 %\n",
            "z - 0.107 %\n",
            "x - 0.079 %\n",
            "q - 0.051 %\n",
            "e - 0.002 %\n"
          ]
        }
      ],
      "source": [
        "def letter_counter(letter, source, all_letters):\n",
        "    counter = 0\n",
        "    for i in source:\n",
        "        if i == letter:\n",
        "            counter += 1\n",
        "    return round(((counter*100) / all_letters), 3)\n",
        "\n",
        "\n",
        "\n",
        "\n",
        "letters_list = []\n",
        "letters_dict = {}\n",
        "with open('gadsby.txt') as gadsby:\n",
        "    text = gadsby.readlines()[114:]\n",
        "    for line in text:\n",
        "        for letter in line:\n",
        "            if not letter.isalpha():\n",
        "                continue\n",
        "            letters_list.append(letter.lower())\n",
        "    letters_set = set(letters_list)\n",
        "    amount_of_letters = len(letters_list)\n",
        "    for letter in letters_set:\n",
        "        letters_dict[f'{letter}'] = letter_counter(letter, letters_list, amount_of_letters)    \n",
        "    letters_dict = dict(sorted(letters_dict.items(), key=lambda item: item[1]))\n",
        "keys_list = list(letters_dict.keys())\n",
        "keys_list.reverse()\n",
        "for key in keys_list[:5]:\n",
        "    print(f'{key} - {letters_dict.get(key)} %')\n",
        "print('')\n",
        "for key in keys_list[-5:]:\n",
        "    print(f'{key} - {letters_dict.get(key)} %')\n",
        "\n",
        "\n",
        "    \n",
        "    \n",
        "        \n",
        "    \n"
      ]
    },
    {
      "cell_type": "markdown",
      "metadata": {
        "id": "A34oz70eU463"
      },
      "source": [
        "### **Завдання 2 (1,5 бали)**\n",
        "\n",
        "Архів archive.zip містить 140 txt-файлів, в яких збережено інфорамцію про те, якими іменами називали дітей у США в період з 1880 по 2019 рік.\n",
        "\n",
        "Структура рядка кожного файлу така:\n",
        "\n",
        "*name,sex,number_of_occurrences*\n",
        "\n",
        "Напишіть програму, яка зчитуватиме кожен файл та визначатиме окремо чоловічі, окремо жіночі імена, що були найпопулярнішими хоча б в один з років. Далі програма повинна підраховувати, скільки разів кожне з цих імен ставало найпопулярнишим, та виводити ранжовані списки чоловічіх та жіночих імен у вигляді:\n",
        "\n",
        "```\n",
        "Michael 44\n",
        "John 44\n",
        "Robert 17\n",
        "...\n",
        "\n",
        "Mary 76\n",
        "Jennifer 15\n",
        "Emily 12\n",
        "...\n",
        "```"
      ]
    },
    {
      "cell_type": "code",
      "execution_count": 12,
      "metadata": {},
      "outputs": [
        {
          "name": "stdout",
          "output_type": "stream",
          "text": [
            "John 44\n",
            "Michael 44\n",
            "Robert 17\n",
            "Jacob 14\n",
            "James 13\n",
            "Noah 4\n",
            "Liam 3\n",
            "David 1\n",
            "----------\n",
            "Mary 76\n",
            "Jennifer 15\n",
            "Emily 12\n",
            "Jessica 9\n",
            "Lisa 8\n",
            "Linda 6\n",
            "Emma 6\n",
            "Sophia 3\n",
            "Ashley 2\n",
            "Isabella 2\n",
            "Olivia 1\n"
          ]
        }
      ],
      "source": [
        "import os\n",
        "\n",
        "\n",
        "def based_on_sex(male_occur, female_occur):\n",
        "    if male_occur not in male_dict.keys():\n",
        "        male_dict[max_male_occur] = 1\n",
        "    else:\n",
        "        male_dict[max_male_occur] += 1\n",
        "    if female_occur not in female_dict.keys():\n",
        "        female_dict[female_occur] = 1\n",
        "    else:\n",
        "        female_dict[female_occur] += 1\n",
        "    \n",
        "\n",
        "\n",
        "male_dict = {}\n",
        "female_dict = {}\n",
        "\n",
        "path = os.listdir('names')\n",
        "for f in path:\n",
        "    with open(f'names\\\\{f}', 'r') as file:\n",
        "        names_list = []\n",
        "        readlines = file.readlines()\n",
        "        readlines = [data.replace('\\n', '') for data in readlines]\n",
        "        for i in readlines:\n",
        "            name, sex, occur = i.split(',')\n",
        "            names_list.append((name, sex, int(occur)))\n",
        "        max_male_occur = max(filter(lambda s: s[1] == 'M', names_list), key = lambda o: o[2])[0]\n",
        "        max_female_occur = max(filter(lambda s: s[1] == 'F', names_list), key = lambda o: o[2])[0]\n",
        "        based_on_sex(max_male_occur, max_female_occur)\n",
        "\n",
        "sorted_male_names = sorted(male_dict.items(), key=lambda a: a[1], reverse=True)\n",
        "sorted_female_names = sorted(female_dict.items(), key=lambda a: a[1], reverse=True)\n",
        "for name, occur in sorted_male_names:\n",
        "    print(f'{name} {occur}')\n",
        "print('-'*10)\n",
        "for name, occur in sorted_female_names:\n",
        "    print(f'{name} {occur}')\n",
        "            \n",
        "            "
      ]
    }
  ],
  "metadata": {
    "colab": {
      "collapsed_sections": [],
      "name": "Practice_14_KM_01.ipynb",
      "provenance": []
    },
    "kernelspec": {
      "display_name": "Python 3",
      "name": "python3"
    },
    "language_info": {
      "codemirror_mode": {
        "name": "ipython",
        "version": 3
      },
      "file_extension": ".py",
      "mimetype": "text/x-python",
      "name": "python",
      "nbconvert_exporter": "python",
      "pygments_lexer": "ipython3",
      "version": "3.9.7"
    }
  },
  "nbformat": 4,
  "nbformat_minor": 0
}
