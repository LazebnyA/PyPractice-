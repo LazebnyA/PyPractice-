{
  "cells": [
    {
      "cell_type": "markdown",
      "metadata": {
        "id": "FMqboNwO4rVs"
      },
      "source": [
        "# **Курс \"Програмування на мові Python\"**"
      ]
    },
    {
      "cell_type": "markdown",
      "metadata": {
        "id": "A2T6MigL5Z06"
      },
      "source": [
        "## **Практичне зайняття №9**\n",
        "\n",
        "### Тема: \"Робота з функціями. Локальні та глобальні змінні\""
      ]
    },
    {
      "cell_type": "markdown",
      "metadata": {
        "id": "cfCdgK2zXm7e"
      },
      "source": [
        "### **Завдання 1 (3 бали)**\n",
        "\n",
        "**Підрахувати визначник матриці, використовуючи правило перестановок.**\n",
        "\n",
        "Функція random_matrix() призначена для створення квадратної матриці випадкових чисел. Її змінювати непотрібно.\n",
        "\n",
        "Приклад використання методу permutations() для створення списку перестановок також подається у комірці з кодом.\n",
        "\n",
        "1) Створити 3 функції: функцію створення списку перестановок, функцію підрахунку добутків та функцію підрахунку загальної суми.\n",
        "\n",
        "2) Кожна функція має супроводжуватись рядком документації, що буде коротко описувати її призначення.\n",
        "\n",
        "3) Розмірність квадратної матриці має вводитись користувачем з клавіатури. Підрахунки виконувати лише в тому разі, якщо користувач введе ціле додатне число.\n",
        "\n",
        "4) Загальний результат повинен підраховуватись за допомогою композиції функцій.\n",
        "\n",
        "За бажанням можна перевірити правильність роботи програми за допомогою функції np.linalg.det(a)."
      ]
    },
    {
      "cell_type": "code",
      "execution_count": 37,
      "metadata": {
        "id": "ifNX2M7LXm7f"
      },
      "outputs": [
        {
          "name": "stdout",
          "output_type": "stream",
          "text": [
            "Determinant found by permutations method =  18.0\n",
            "Determinant found by numpy function =  18.0\n"
          ]
        }
      ],
      "source": [
        "import numpy as np\n",
        "import itertools\n",
        "\n",
        "\n",
        "\n",
        "def random_matrix(dim):\n",
        "    \"\"\"\n",
        "    The function generates dim x dim array of integers\n",
        "    between 0 and 10.\n",
        "    \"\"\"\n",
        "    matrix = np.random.randint(10, size = (dim, dim))\n",
        "    return matrix\n",
        "                \n",
        "def perms__ordered__by__sign(permutations):\n",
        "    '''\n",
        "    The function returns an array of two permutations - \n",
        "    positive_permutations = structured_perm_list[0]\n",
        "    and\n",
        "    negative_permutations = structured_perm_list[1]\n",
        "    '''\n",
        "\n",
        "    positive_perms = []\n",
        "    negative_perms = []\n",
        "\n",
        "    for perm_item in permutations:\n",
        "        inv_cnt = 0\n",
        "        for i in range(0, len(perm_item)):\n",
        "            for j in range(i + 1, len(perm_item)):\n",
        "                if perm_item[j] < perm_item[i]:\n",
        "                    inv_cnt += 1\n",
        "                    continue\n",
        "        if inv_cnt % 2 == 0:\n",
        "            positive_perms.append(perm_item)\n",
        "        else:\n",
        "            negative_perms.append(perm_item)\n",
        "    \n",
        "    structured_perm_list = [positive_perms, negative_perms]\n",
        "    return structured_perm_list\n",
        "\n",
        "def det_products(permutations, matrix):\n",
        "    '''\n",
        "    The function returns an array of products\n",
        "    '''\n",
        "    result = []\n",
        "    pos_product = 1\n",
        "    neg_product = 1\n",
        "    for perm_item in permutations[0]:\n",
        "        for i, j in zip(range(0, len(matrix)), perm_item):\n",
        "            pos_product *= matrix[i][j-1]\n",
        "\n",
        "        result.append(pos_product)\n",
        "        pos_product = 1\n",
        "        \n",
        "    for perm_item in permutations[1]:                  \n",
        "        for i, j in zip(range(0, len(matrix)), perm_item):\n",
        "            neg_product *= matrix[i][j-1]\n",
        "        neg_product *= -1\n",
        "        result.append(neg_product)\n",
        "        neg_product = 1\n",
        "    return result \n",
        "\n",
        "def det_sum(products):\n",
        "    '''\n",
        "    The function returns the sum of products \n",
        "    '''\n",
        "    s = 0\n",
        "    for i in products(signed_perms_list, matrix):\n",
        "        s += i\n",
        "    return float(s)\n",
        "\n",
        "\n",
        "\n",
        "\n",
        "try:\n",
        "    dim_checker = True\n",
        "#dim_checker checks whether the input of dimension is correct (dim > 0) or not (dim <=0)\n",
        "    while dim_checker:\n",
        "        dim = int(input('Enter the dimension of a matrix'))\n",
        "        if dim <= 0:\n",
        "            raise ValueError('Dimension of a matrix can`t be less than 0, or equal to 0')\n",
        "        dim_checker = False\n",
        "        perm_list = list(itertools.permutations(range(1, dim+1), dim))\n",
        "        signed_perms_list = perms__ordered__by__sign(perm_list)\n",
        "        matrix = random_matrix(dim)\n",
        "except ValueError as e:\n",
        "    print('Error: ', e)\n",
        "    print('Try to enter correct value')\n",
        "\n",
        "\n",
        "print('Determinant found by permutations method = ', det_sum(det_products))\n",
        "print('Determinant found by numpy function = ', round(np.linalg.det(matrix), 2))\n",
        "\n",
        "\n",
        "\n",
        "\n",
        "\n",
        "\n",
        "\n"
      ]
    },
    {
      "cell_type": "code",
      "execution_count": null,
      "metadata": {},
      "outputs": [],
      "source": []
    },
    {
      "cell_type": "code",
      "execution_count": null,
      "metadata": {},
      "outputs": [],
      "source": [
        "\n"
      ]
    },
    {
      "cell_type": "code",
      "execution_count": null,
      "metadata": {},
      "outputs": [],
      "source": []
    }
  ],
  "metadata": {
    "colab": {
      "collapsed_sections": [],
      "name": "Practice_7_KM-01_.ipynb",
      "provenance": []
    },
    "interpreter": {
      "hash": "6548c30bd0a2a31206deff9d85cdae3ec1d9efc20e36cae7059dc4c18d41af10"
    },
    "kernelspec": {
      "display_name": "Python 3.9.7 64-bit",
      "name": "python3"
    },
    "language_info": {
      "codemirror_mode": {
        "name": "ipython",
        "version": 3
      },
      "file_extension": ".py",
      "mimetype": "text/x-python",
      "name": "python",
      "nbconvert_exporter": "python",
      "pygments_lexer": "ipython3",
      "version": "3.9.7"
    }
  },
  "nbformat": 4,
  "nbformat_minor": 0
}
