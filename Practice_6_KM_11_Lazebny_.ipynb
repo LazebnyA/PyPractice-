{
  "nbformat": 4,
  "nbformat_minor": 2,
  "metadata": {
    "colab": {
      "name": "Practice_5_KM-03_.ipynb",
      "provenance": [],
      "collapsed_sections": []
    },
    "kernelspec": {
      "name": "python3",
      "display_name": "Python 3.9.7 64-bit"
    },
    "language_info": {
      "name": "python",
      "version": "3.9.7"
    },
    "interpreter": {
      "hash": "6548c30bd0a2a31206deff9d85cdae3ec1d9efc20e36cae7059dc4c18d41af10"
    }
  },
  "cells": [
    {
      "cell_type": "markdown",
      "source": [
        "# **Курс \"Програмування на мові Python\"**"
      ],
      "metadata": {
        "id": "FMqboNwO4rVs"
      }
    },
    {
      "cell_type": "markdown",
      "source": [
        "## **Практичне зайняття №6**\n",
        "### Тема: \"Робота з кортежами, множинами та словниками\""
      ],
      "metadata": {
        "id": "A2T6MigL5Z06"
      }
    },
    {
      "cell_type": "markdown",
      "source": [
        "### **Завдання 1 (1,5 бали)**\r\n",
        "\r\n",
        "Напишіть програму, яка визначала б, чи можна з літер однієї фрази скласти іншу фразу. Наприклад:\r\n",
        "\r\n",
        "\"William Shakespeare\" -> \"A small spark\"\r\n",
        "\r\n",
        "Перша фраза містить 11 унікальних літер (хоча деякі повторюються): a, e, h, i, k, l, m, p, r, s та w. Друга фраза містить 7 унікальних літер: a, k, l, m, p, r та s. Кожна з літер другої фрази зустрічається принаймні один раз у першій фразі.\r\n",
        "\r\n",
        "1. Обидві фрази повинні вводитись користувачем з клавіатури.\r\n",
        "\r\n",
        "2. Скористайтесь властивістю множин у мові програмування Python для виділення колекції унікальних літер.\r\n",
        "\r\n",
        "3. У множину не повинні потрапити пробіли, розділові знаки та інші символи, що не є літерами (скористайтесь методом **isalpha()**). Також усі літери мають бути переведені в нижній або верхній регістр (скористайтесь методами **lower()** або **upper()**).\r\n",
        "\r\n",
        "4. Зверніть увагу на те, що літери як в першій, так і вдругій фразі можуть повторюватись. Однак множина унікальних літер другої фрази повинна бути підмножиною множини унікальних літер першої фрази.\r\n",
        "\r\n",
        "5. У складі змістовного повідомлення програма повинна виводити множину літер першої фрази, множину літер другої фрази, а також змістовне повідомлення про те, чи можна скласти з літер першої фрази другу фразу."
      ],
      "metadata": {
        "id": "4AV5CN7N4xja"
      }
    },
    {
      "cell_type": "code",
      "execution_count": 14,
      "source": [
        "first_phrase = input('Enter the first phrase')\r\n",
        "second_phrase = input('Enter the second phrase')\r\n",
        "\r\n",
        "first_phrase = first_phrase.lower()\r\n",
        "second_phrase = second_phrase.lower()\r\n",
        "\r\n",
        "first_phrase_set = set()\r\n",
        "for el in first_phrase:\r\n",
        "  if el.isalpha():\r\n",
        "    first_phrase_set.add(el)\r\n",
        "  else:\r\n",
        "    continue\r\n",
        "  \r\n",
        "\r\n",
        "second_phrase_set = set()\r\n",
        "for el in second_phrase:\r\n",
        "  if el.isalpha():\r\n",
        "    second_phrase_set.add(el)\r\n",
        "  else:\r\n",
        "    continue\r\n",
        "\r\n",
        "if second_phrase_set in first_phrase_set:\r\n",
        "  print('First set: ', first_phrase_set)\r\n",
        "  print('Second set: ', second_phrase_set)\r\n",
        "  print('We can easily create the second phrase out of the set of letters of the first phrase ')\r\n",
        "else:\r\n",
        "  print('First set: ', first_phrase_set)\r\n",
        "  print('Second set: ', second_phrase_set)\r\n",
        "  print('We can`t create the second phrase out of the set of letters of the first phrase ')\r\n",
        "\r\n",
        "\r\n",
        "\r\n"
      ],
      "outputs": [
        {
          "output_type": "stream",
          "name": "stdout",
          "text": [
            "First set:  {'p', 'h', 'r', 'w', 'k', 'm', 's', 'l', 'i', 'e', 'a'}\n",
            "Second set:  {'p', 'r', 'k', 'm', 's', 'l', 'a'}\n",
            "We can easily create the second phrase out of the set of letters of the first phrase \n"
          ]
        }
      ],
      "metadata": {
        "id": "9Mesp1jV4xjb"
      }
    },
    {
      "cell_type": "markdown",
      "source": [
        "### **Завдання 2 (1,5 бали)**\n",
        "\n",
        "Скрабл (Ерудит) - це настільна гра, в якій від 2 до 4 гравців складають слова з наявних літер на полі розміром 15 х 15. За кожну використану літеру гравець отримує певну кількість балів. Перелік літер та балів, які можна отримати за використання цих літер, подано у таблиці.\n",
        "\n",
        "Бали | Літери\n",
        "--- | ---\n",
        "1 | A, E, I, L, N, O, R, S, T, U\n",
        "2 | D, G\n",
        "3 | B, C, M, P\n",
        "4 | F, H, V, W, Y\n",
        "5 | K\n",
        "8 | J, X\n",
        "10 | Q, Z\n",
        "\n",
        "Напишіть програму, яка підраховує та виводить загальну кількість балів, яку можна отримати за слово, введене користувачем з клавіатури.\n",
        "\n",
        "1. Скористайтесь словником для збереження усіх балів та літер, за які ці бали нараховуються. \n",
        "\n",
        "2. Якщо користувач введе кілька слів, виведіть бали, які можна отримати за кожне з них окремо.\n",
        "\n",
        "3. Якщо користувач введе символи, що не є літерами (окрім пробіла, який можна використовувати для розділення слів), програма має їх ігнорувати.\n",
        "\n",
        "4. Програма повинна приймати літери як верхнього, так і нижнього регістрів.\n",
        "\n",
        "Наприклад, якщо користувач введе \"Hello, World!\", програма повинна вивести:\n",
        "\n",
        "8 9\n",
        "\n",
        "або більш розгорнутий варіант (за бажанням):\n",
        "\n",
        "4+1+1+1+1=8\n",
        "\n",
        "4+1+1+1+2=9"
      ],
      "metadata": {
        "id": "t7fqn1NN-J7z"
      }
    },
    {
      "cell_type": "code",
      "execution_count": 22,
      "source": [
        "scrabble_dict = {\r\n",
        "    'a' : 1,    'e' : 1,    'i' : 1,    'l' : 1,    'n' : 1,    'o' : 1,    'r' : 1,    's' : 1,    't' : 1,    'u' : 1,\r\n",
        "    'd' : 2,    'g' : 2,\r\n",
        "    'b' : 3,    'c' : 3,    'm' : 3,    'p' : 3,\r\n",
        "    'f' : 4,    'h' : 4,    'v' : 4,    'w' : 4,    'y' : 4,\r\n",
        "    'k' : 5,\r\n",
        "    'j' : 8,    'x' : 8,\r\n",
        "    'q' : 10,    'z' : 10\r\n",
        "}\r\n",
        "\r\n",
        "scrabble_string = input('Enter a word/phrase')\r\n",
        "scrabble_words_list = scrabble_string.split()\r\n",
        "\r\n",
        "for word in scrabble_words_list:\r\n",
        "  scrabble_points = 0\r\n",
        "  for i in word:\r\n",
        "    i = i.lower()\r\n",
        "    if i in scrabble_dict.keys() and i.isalpha():\r\n",
        "      scrabble_points += scrabble_dict.get(i)\r\n",
        "  print(scrabble_points, end=' ')  \r\n",
        "\r\n"
      ],
      "outputs": [
        {
          "output_type": "stream",
          "name": "stdout",
          "text": [
            "21 8 "
          ]
        }
      ],
      "metadata": {
        "id": "EVY800vg4xjg"
      }
    }
  ]
}