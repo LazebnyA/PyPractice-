{
  "cells": [
    {
      "cell_type": "markdown",
      "metadata": {
        "id": "1bRxWHr5e8kt"
      },
      "source": [
        "# **Курс \"Програмування на мові Python\"**"
      ]
    },
    {
      "cell_type": "markdown",
      "metadata": {
        "id": "buZUwUgFe-kx"
      },
      "source": [
        "## **Практичне зайняття №3**\n",
        "### Тема: \"Перші програми на Python. Введення та виведення даних. Інструкція if\""
      ]
    },
    {
      "cell_type": "markdown",
      "metadata": {
        "id": "PUkxEn8EfAUe"
      },
      "source": [
        "### **Завдання 1 (1,5 бали)**\n",
        "\n"
      ]
    },
    {
      "cell_type": "markdown",
      "metadata": {
        "id": "M7jjwxAvfKa2"
      },
      "source": [
        "**Написати програму введення та виведення даних про одержувача листа (посилки) за стандартами Укрпошти.**\n",
        "\n",
        "1. Усі запити на введення даних повинні супроводжуватись відповідними підказками-поясненнями (бажано англійською мовою).\n",
        "\n",
        "2. Дані мають виводитись так, як показано нижче (з урахуванням кількості рядків та послідовності даних у кожному з них).\n",
        "\n",
        "3. Дані, виділені жирним шрифтом, повинні вводитись із клавіатури. Всього має бути 9 окремих команд введення даних\n",
        "\n",
        "4. Назви змінних повинні бути інформативними та оформленими відповідно до правил іменування змінних\n",
        "\n",
        "5. Додати 2 коментарі, що вказують на блоки введення та виведення даних.\n",
        "\n",
        "***Формат виведення даних:***\n",
        "\n",
        "(1) **Ім'я** (2) **Прізвище**\n",
        "\n",
        "(3) **Номер телефону**\n",
        "\n",
        "Str. (4) **Назва вулиці** (5) **Номер будинку**, ap. (6) **Номер квартири**, (7) **Місто**\n",
        "\n",
        "(8) **Індекс**\n",
        "\n",
        "(9) **Країна**\n",
        "\n",
        "***Приклад виведення:***\n",
        "\n",
        "*Lucas Diallo*\n",
        "\n",
        "*3221234567*\n",
        "\n",
        "*Str. Longue 3, ap. 5, Bruxelles*\n",
        "\n",
        "*1020*\n",
        "\n",
        "*Belgium*"
      ]
    },
    {
      "cell_type": "code",
      "execution_count": 8,
      "metadata": {},
      "outputs": [
        {
          "name": "stdout",
          "output_type": "stream",
          "text": [
            "John  Doe\n",
            "392931923991\n",
            "Str. Bullwood Rd 96, ap. 12, Leicester \n",
            "LE11\n",
            "UK\n"
          ]
        }
      ],
      "source": [
        "#input block\n",
        "name = input('Enter your name')\n",
        "surname = input('Enter your surname')\n",
        "phone_number = input('Enter your phone number')\n",
        "street_name = input('Enter your street name')\n",
        "house_number = input('Enter your house number')\n",
        "flat_number = input('Enter your flat number')\n",
        "city = input('Enter your city name')\n",
        "post_index = input('Enter your post index')\n",
        "country = input('Enter your country')\n",
        "\n",
        "#output block\n",
        "print(name + ' ' + surname)\n",
        "print(phone_number)\n",
        "print('Str. ' + street_name + ' ' + house_number + ', ap. ' + flat_number + ', ' + city)\n",
        "print(post_index)\n",
        "print(country)\n"
      ]
    },
    {
      "cell_type": "markdown",
      "metadata": {
        "id": "WmnpKrmPf689"
      },
      "source": [
        "### **Завдання 2 (1,5 бали)**"
      ]
    },
    {
      "cell_type": "markdown",
      "metadata": {
        "id": "4n4p_pz7gFKM"
      },
      "source": [
        "Таблиця містить магнітуду землетрусів за шкалою Ріхтера та дескриптори, що їй відповідають.\n",
        "\n",
        "Магнітуда | Дескриптор\n",
        "--- | ---\n",
        "Менше, ніж 2 | Micro\n",
        "Від 2 до менше ніж 3 | Very minor\n",
        "Від 3 до менше ніж 4 | Minor\n",
        "Від 4 до менше ніж 5 | Light\n",
        "Від 5 до менше ніж 6 | Moderate\n",
        "Від 6 до менше ніж 7 | Strong\n",
        "Від 7 до менше ніж 8 | Major\n",
        "Від 8 до менше ніж 10 | Great\n",
        "10 та більше | Meteoric\n",
        "\n",
        "Напишіть програму, яка буде зчитувати магнітуду, введену користувачем, та виводити відповідний дескриптор як частину змістовного повідомлення. Наприклад, якщо користувач вводить 5.5, ваша програма повинна показати, що землетрус з такою магнітудою є помірним (moderate)."
      ]
    },
    {
      "cell_type": "code",
      "execution_count": 1,
      "metadata": {
        "id": "Nv66Jkkpf-sI"
      },
      "outputs": [
        {
          "name": "stdout",
          "output_type": "stream",
          "text": [
            "Magnitude is moderate\n"
          ]
        }
      ],
      "source": [
        "#input block\n",
        "magnitude = float(input('Enter magnitude value'))\n",
        "\n",
        "  #output block\n",
        "if magnitude < 0:\n",
        "  print('Magnitude value must be > 0, try to enter another value')\n",
        "elif magnitude < 2:\n",
        "  print('Magnitude is micro')\n",
        "elif magnitude < 3:\n",
        "  print('Magnitude is very minor')\n",
        "elif magnitude < 4:\n",
        "  print('Magnitude is minor')\n",
        "elif magnitude < 5:\n",
        "  print('Magnitude is light')\n",
        "elif magnitude < 6:\n",
        "  print('Magnitude is moderate')\n",
        "elif magnitude < 7:\n",
        "  print('Magnitude is strong')\n",
        "elif magnitude < 8:\n",
        "  print('Magnitude is major')\n",
        "elif magnitude < 10:\n",
        "  print('Magnitude is great')\n",
        "elif magnitude > 10:\n",
        "  print('Magnitude is meteoric')\n"
      ]
    },
    {
      "cell_type": "markdown",
      "metadata": {
        "id": "X8fC_GM_nMRi"
      },
      "source": [
        "### **Завдання 3 (бонусне, 1 бал)**"
      ]
    },
    {
      "cell_type": "markdown",
      "metadata": {
        "id": "b593txPwotgN"
      },
      "source": [
        "Часто говорять, що один календарний рік еквівалентний 7 рокам для собаки. Однак таке просте перетворення не враховує того, що собаки досягають повноліття приблизно у 2 роки. Тому деякі люди вважать, що краще рахувати кожен з перших двох календарних років як 10,5 років для собаки, а потім рахувати кожен наступний календарний рік як 4 роки для собаки.\n",
        "\n",
        "Напишіть програму, яка конвертує календарні роки у \"собачі\", як було показано в попередньому абзаці. Переконайтесь, що ваша програма працює правильно, конвертуючи перші два календарні роки та всі подальші. Ваша програма також повинна виводити повідомлення про помилку, якщо користувач введе від'ємне число."
      ]
    },
    {
      "cell_type": "code",
      "execution_count": 1,
      "metadata": {
        "id": "PA_E_H0Zosu0"
      },
      "outputs": [
        {
          "name": "stdout",
          "output_type": "stream",
          "text": [
            "Dog years: 229.0\n"
          ]
        }
      ],
      "source": [
        "r = True\n",
        "while r:\n",
        "  calendar_years = float(input('Enter a number of calendar years, which would be converted'))\n",
        "  if calendar_years < 0:\n",
        "    print('You `ve entered an incorrect value, try again (number of calendar years must be > 0)')\n",
        "  elif calendar_years > 0 and calendar_years <= 2:\n",
        "    dog_years = calendar_years * 10.5\n",
        "    print('Dog years:', dog_years)\n",
        "    r = False\n",
        "  elif calendar_years > 2:\n",
        "    dog_years = ((10.5 * 2) + ((calendar_years - 2) * 4))    \n",
        "    print('Dog years:', dog_years)\n",
        "    r = False\n",
        "\n",
        "\n"
      ]
    }
  ],
  "metadata": {
    "colab": {
      "collapsed_sections": [],
      "name": "Pranctice_3_KM-01_<name>.ipynb",
      "provenance": []
    },
    "interpreter": {
      "hash": "6548c30bd0a2a31206deff9d85cdae3ec1d9efc20e36cae7059dc4c18d41af10"
    },
    "kernelspec": {
      "display_name": "Python 3.9.7 64-bit",
      "name": "python3"
    },
    "language_info": {
      "codemirror_mode": {
        "name": "ipython",
        "version": 3
      },
      "file_extension": ".py",
      "mimetype": "text/x-python",
      "name": "python",
      "nbconvert_exporter": "python",
      "pygments_lexer": "ipython3",
      "version": "3.9.7"
    }
  },
  "nbformat": 4,
  "nbformat_minor": 2
}
